{
 "cells": [
  {
   "cell_type": "markdown",
   "id": "01e211b7",
   "metadata": {},
   "source": [
    "## Visualiation Excercise\n",
    "### Name : Alberto Carlos Navarrete Garcia"
   ]
  },
  {
   "cell_type": "markdown",
   "id": "d94c6aac",
   "metadata": {},
   "source": [
    "### Import libraries"
   ]
  },
  {
   "cell_type": "code",
   "execution_count": null,
   "id": "8b4c8244",
   "metadata": {},
   "outputs": [],
   "source": [
    "import matplotlib.pyplot as plt\n",
    "import seaborn as sns"
   ]
  },
  {
   "cell_type": "markdown",
   "id": "a9d6f948",
   "metadata": {},
   "source": [
    "#### Create a line plot"
   ]
  },
  {
   "cell_type": "code",
   "execution_count": null,
   "id": "4e6f34d7",
   "metadata": {},
   "outputs": [],
   "source": [
    "years = [2010, 2011, 2012,2013]\n",
    "sales = [100, 120, 140, 160]"
   ]
  },
  {
   "cell_type": "code",
   "execution_count": null,
   "id": "27f003f0",
   "metadata": {},
   "outputs": [],
   "source": [
    "plt.plot(years, sales,color='blue', marker='0')\n",
    "plt.title(\"Sales over the years\")\n",
    "plt.xlabel(\"Year\")\n",
    "plt.ylabel(\"sales\")\n",
    "plt.legend()\n",
    "plt.show()"
   ]
  },
  {
   "cell_type": "markdown",
   "id": "fc3e8c29",
   "metadata": {},
   "source": [
    "### Bar Chart\n",
    "\n"
   ]
  },
  {
   "cell_type": "code",
   "execution_count": null,
   "id": "981d8d51",
   "metadata": {},
   "outputs": [],
   "source": [
    "categories = [\"Electronics\", \"Clothing\", \"Furniture\"]\n",
    "revenue = [250, 400, 150]"
   ]
  },
  {
   "cell_type": "code",
   "execution_count": null,
   "id": "b9448b3a",
   "metadata": {},
   "outputs": [],
   "source": [
    "plt.bar(categories, revenue, color='green')\n",
    "plt.title(\"Revenue by Category\")\n",
    "plt.show"
   ]
  },
  {
   "cell_type": "markdown",
   "id": "e307c1d2",
   "metadata": {},
   "source": [
    "### Scatter Plot\n"
   ]
  },
  {
   "cell_type": "code",
   "execution_count": null,
   "id": "1f85590a",
   "metadata": {},
   "outputs": [],
   "source": [
    "hours_studied = [1,2,3,4,5]\n",
    "exam_scores = [50, 55, 67, 80, 90]"
   ]
  },
  {
   "cell_type": "code",
   "execution_count": null,
   "id": "9deee768",
   "metadata": {},
   "outputs": [],
   "source": [
    "plt.scatter(hours_studied, exam_scores, color='red')\n",
    "plt.title(\"Study hours vs Exam Sores\")\n",
    "plt.xlabel(\"Hours Studied\")\n",
    "plt.ylabel(\"Exam Scores\")\n",
    "plt.show()"
   ]
  }
 ],
 "metadata": {
  "kernelspec": {
   "display_name": "Python 3",
   "language": "python",
   "name": "python3"
  },
  "language_info": {
   "codemirror_mode": {
    "name": "ipython",
    "version": 3
   },
   "file_extension": ".py",
   "mimetype": "text/x-python",
   "name": "python",
   "nbconvert_exporter": "python",
   "pygments_lexer": "ipython3",
   "version": "3.11.2"
  }
 },
 "nbformat": 4,
 "nbformat_minor": 5
}
