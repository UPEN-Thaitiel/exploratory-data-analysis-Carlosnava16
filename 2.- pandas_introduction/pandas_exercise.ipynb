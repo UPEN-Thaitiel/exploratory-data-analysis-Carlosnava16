{
 "cells": [
  {
   "cell_type": "markdown",
   "id": "ab86307a",
   "metadata": {},
   "source": [
    "## Introduction to Pandas\n",
    "\n",
    "#### **Name:** Alberto Carlos Navarrete Garcia\n",
    "\n"
   ]
  },
  {
   "cell_type": "markdown",
   "id": "647f162a",
   "metadata": {},
   "source": [
    "#### Import Pandas"
   ]
  },
  {
   "cell_type": "code",
   "execution_count": null,
   "id": "6011af66",
   "metadata": {},
   "outputs": [],
   "source": [
    "import pandas as pd"
   ]
  },
  {
   "cell_type": "markdown",
   "id": "d75e8398",
   "metadata": {},
   "source": [
    "#### Creating Series"
   ]
  },
  {
   "cell_type": "code",
   "execution_count": null,
   "id": "2114bca2",
   "metadata": {},
   "outputs": [],
   "source": [
    "s = pd.Series([10,20,30], index=[\"a\",\"b\",\"c\"])\n",
    "s"
   ]
  },
  {
   "cell_type": "code",
   "execution_count": null,
   "id": "0b55d4a4",
   "metadata": {},
   "outputs": [],
   "source": [
    "data = {\"Name\":['Alice','George'], \"age\":[25,23]}\n",
    "data"
   ]
  },
  {
   "cell_type": "code",
   "execution_count": null,
   "id": "a2e8ff3d",
   "metadata": {},
   "outputs": [],
   "source": [
    "df = pd.DataFrame(data)\n",
    "df"
   ]
  },
  {
   "cell_type": "markdown",
   "id": "35dfca98",
   "metadata": {},
   "source": [
    "#### Viewing Data"
   ]
  },
  {
   "cell_type": "code",
   "execution_count": null,
   "id": "008b1d4b",
   "metadata": {},
   "outputs": [],
   "source": [
    "df.head()"
   ]
  },
  {
   "cell_type": "code",
   "execution_count": null,
   "id": "b30bcdad",
   "metadata": {},
   "outputs": [],
   "source": []
  },
  {
   "cell_type": "markdown",
   "id": "f4272139",
   "metadata": {},
   "source": [
    "#### Describe data"
   ]
  },
  {
   "cell_type": "code",
   "execution_count": null,
   "id": "2b4950d7",
   "metadata": {},
   "outputs": [],
   "source": [
    "df.info()"
   ]
  },
  {
   "cell_type": "code",
   "execution_count": null,
   "id": "64444eb5",
   "metadata": {},
   "outputs": [],
   "source": [
    "df.describe()"
   ]
  },
  {
   "cell_type": "markdown",
   "id": "f882edb3",
   "metadata": {},
   "source": [
    "#### Filtering Data"
   ]
  },
  {
   "cell_type": "code",
   "execution_count": null,
   "id": "ab732ecf",
   "metadata": {},
   "outputs": [],
   "source": [
    "df[[\"Name\", \"age\"]]"
   ]
  },
  {
   "cell_type": "code",
   "execution_count": null,
   "id": "f612fe2f",
   "metadata": {},
   "outputs": [],
   "source": [
    "df[df[\"Age\"]>24]"
   ]
  },
  {
   "cell_type": "markdown",
   "id": "7221aa97",
   "metadata": {},
   "source": [
    "#### Dataframe Indexing"
   ]
  },
  {
   "cell_type": "code",
   "execution_count": null,
   "id": "e46474ac",
   "metadata": {},
   "outputs": [],
   "source": [
    "df.iloc[1]"
   ]
  },
  {
   "cell_type": "code",
   "execution_count": null,
   "id": "a5a2ab44",
   "metadata": {},
   "outputs": [],
   "source": [
    "df.iloc[:,0]"
   ]
  },
  {
   "cell_type": "markdown",
   "id": "1637ee73",
   "metadata": {},
   "source": [
    "#### Loading a Dataset\n",
    "![image.png](iris_species.png)"
   ]
  },
  {
   "cell_type": "code",
   "execution_count": null,
   "id": "b40f22f9",
   "metadata": {},
   "outputs": [],
   "source": [
    "df = pd.read_csv('iris.csv')"
   ]
  },
  {
   "cell_type": "markdown",
   "id": "38e17fb0",
   "metadata": {},
   "source": [
    "#### Exploring the dataset"
   ]
  },
  {
   "cell_type": "code",
   "execution_count": null,
   "id": "f5f35df9",
   "metadata": {},
   "outputs": [],
   "source": [
    "df.columns"
   ]
  },
  {
   "cell_type": "code",
   "execution_count": null,
   "id": "3ce73a37",
   "metadata": {},
   "outputs": [],
   "source": [
    "df.info()"
   ]
  },
  {
   "cell_type": "code",
   "execution_count": null,
   "id": "04bf6879",
   "metadata": {},
   "outputs": [],
   "source": [
    "df.head()"
   ]
  },
  {
   "cell_type": "code",
   "execution_count": null,
   "id": "b4141679",
   "metadata": {},
   "outputs": [],
   "source": [
    "df.tall()"
   ]
  },
  {
   "cell_type": "code",
   "execution_count": null,
   "id": "0f05e443",
   "metadata": {},
   "outputs": [],
   "source": [
    "df.describe()"
   ]
  },
  {
   "cell_type": "code",
   "execution_count": null,
   "id": "b3a1d948",
   "metadata": {},
   "outputs": [],
   "source": [
    "df['species'].value_counts()"
   ]
  },
  {
   "cell_type": "code",
   "execution_count": null,
   "id": "3fb422ac",
   "metadata": {},
   "outputs": [],
   "source": [
    "df[[\"sepal_length\",\"sepal_width\"]]"
   ]
  },
  {
   "cell_type": "code",
   "execution_count": null,
   "id": "ee475e7b",
   "metadata": {},
   "outputs": [],
   "source": [
    "df[(df['sepal_lengyh']>5.0)&(df['species']=='setosa')]"
   ]
  }
 ],
 "metadata": {
  "kernelspec": {
   "display_name": "Python 3",
   "language": "python",
   "name": "python3"
  },
  "language_info": {
   "codemirror_mode": {
    "name": "ipython",
    "version": 3
   },
   "file_extension": ".py",
   "mimetype": "text/x-python",
   "name": "python",
   "nbconvert_exporter": "python",
   "pygments_lexer": "ipython3",
   "version": "3.12.5"
  }
 },
 "nbformat": 4,
 "nbformat_minor": 5
}
