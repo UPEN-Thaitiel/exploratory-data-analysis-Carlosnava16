{
 "cells": [
  {
   "cell_type": "markdown",
   "id": "15ad4403",
   "metadata": {},
   "source": [
    "## Introduction to Pandas\n",
    "\n",
    "#### **Name:** Alberto Carlos Navarrete Garcia"
   ]
  },
  {
   "cell_type": "markdown",
   "id": "425ad2d0",
   "metadata": {},
   "source": [
    "#### Import Libraries"
   ]
  },
  {
   "cell_type": "code",
   "execution_count": null,
   "id": "25eb7dc1",
   "metadata": {},
   "outputs": [],
   "source": [
    "import pandas as pd\n",
    "import numpy as np"
   ]
  },
  {
   "cell_type": "markdown",
   "id": "68ee8d9d",
   "metadata": {},
   "source": [
    "#### Create the dataset"
   ]
  },
  {
   "cell_type": "code",
   "execution_count": null,
   "id": "62694a6e",
   "metadata": {},
   "outputs": [],
   "source": [
    "data = {\n",
    "    \"Name\": [\"Alice\", \"Bob\", \"Charlie\", \"David\"],\n",
    "    \"Age\": [25, np.nan, 30, 35],\n",
    "    \"Score\": [85, 90, np.nan, 88],\n",
    "}\n",
    "df = pd.DataFrame(data)"
   ]
  },
  {
   "cell_type": "code",
   "execution_count": null,
   "id": "280cb1af",
   "metadata": {},
   "outputs": [],
   "source": [
    "df.info()"
   ]
  },
  {
   "cell_type": "markdown",
   "id": "f9114eca",
   "metadata": {},
   "source": [
    "#### Replace Age with mean"
   ]
  },
  {
   "cell_type": "code",
   "execution_count": null,
   "id": "f7a7b6eb",
   "metadata": {},
   "outputs": [],
   "source": [
    "df[\"Age\"] =df[\"Age\"].fillna(df[\"Age\"].median())\n",
    "df"
   ]
  },
  {
   "cell_type": "markdown",
   "id": "791ced04",
   "metadata": {},
   "source": [
    "#### Replace Score "
   ]
  },
  {
   "cell_type": "code",
   "execution_count": null,
   "id": "cb3eabe5",
   "metadata": {},
   "outputs": [],
   "source": [
    "df[\"Score\"]= df[\"Score\"].fillna(round(df[\"Score\"].mean))\n",
    "df[\"Score\"]"
   ]
  },
  {
   "cell_type": "code",
   "execution_count": null,
   "id": "62f729b8",
   "metadata": {},
   "outputs": [],
   "source": []
  },
  {
   "cell_type": "markdown",
   "id": "ea959357",
   "metadata": {},
   "source": [
    "#### Rename Columns"
   ]
  },
  {
   "cell_type": "code",
   "execution_count": null,
   "id": "6087d23b",
   "metadata": {},
   "outputs": [],
   "source": [
    "df = df.rename(columns={\"Name\": \"Stundent_Name\", \"Score\":\"Exam_Score\"})\n",
    "df"
   ]
  },
  {
   "cell_type": "markdown",
   "id": "2434035f",
   "metadata": {},
   "source": [
    "#### Concatenate Dataframes"
   ]
  },
  {
   "cell_type": "markdown",
   "id": "40747806",
   "metadata": {},
   "source": [
    "#### Grouping Data by Categories"
   ]
  },
  {
   "cell_type": "code",
   "execution_count": null,
   "id": "a86187f8",
   "metadata": {},
   "outputs": [],
   "source": [
    "data = {\n",
    "    \"Class\": [\"A\", \"B\", \"A\", \"B\", \"C\", \"C\"],\n",
    "    \"Score\": [85, 90, 88, 72, 95, 80],\n",
    "    \"Age\": [15, 16, 15, 17, 16, 15],\n",
    "}\n",
    "df = pd.DataFrame(data)\n"
   ]
  },
  {
   "cell_type": "code",
   "execution_count": null,
   "id": "efdf1a47",
   "metadata": {},
   "outputs": [],
   "source": [
    "df.groupby(\"Class\").mean()"
   ]
  },
  {
   "cell_type": "markdown",
   "id": "0e380d34",
   "metadata": {},
   "source": []
  }
 ],
 "metadata": {
  "kernelspec": {
   "display_name": "Python 3",
   "language": "python",
   "name": "python3"
  },
  "language_info": {
   "codemirror_mode": {
    "name": "ipython",
    "version": 3
   },
   "file_extension": ".py",
   "mimetype": "text/x-python",
   "name": "python",
   "nbconvert_exporter": "python",
   "pygments_lexer": "ipython3",
   "version": "3.12.5"
  }
 },
 "nbformat": 4,
 "nbformat_minor": 5
}
