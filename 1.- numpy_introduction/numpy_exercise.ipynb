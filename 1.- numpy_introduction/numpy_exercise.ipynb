{
 "cells": [
  {
   "cell_type": "markdown",
   "id": "10ab6f70",
   "metadata": {},
   "source": [
    "## Introduction to Numpy\n",
    "\n",
    "#### **Name:** Alberto Carlos Navarrete Garcia"
   ]
  },
  {
   "cell_type": "markdown",
   "id": "cb7056d7",
   "metadata": {},
   "source": [
    "#### Import numpy"
   ]
  },
  {
   "cell_type": "code",
   "execution_count": null,
   "id": "4de0cf3f",
   "metadata": {},
   "outputs": [],
   "source": [
    "import numpy as np"
   ]
  },
  {
   "cell_type": "markdown",
   "id": "4d8550aa",
   "metadata": {},
   "source": [
    "#### Numpy operations\n",
    "1.- Create array a with values from 1-5 \\\n",
    "2.- create an array b with values from 6 - 10"
   ]
  },
  {
   "cell_type": "code",
   "execution_count": null,
   "id": "7b8cdb38",
   "metadata": {},
   "outputs": [],
   "source": [
    "a = np.arange(1,6)\n",
    "a\n"
   ]
  },
  {
   "cell_type": "code",
   "execution_count": null,
   "id": "9fb93db8",
   "metadata": {},
   "outputs": [],
   "source": [
    "b= np.arange(6,11)\n",
    "b"
   ]
  },
  {
   "cell_type": "markdown",
   "id": "1b1c7c38",
   "metadata": {},
   "source": [
    "#### Matrix Operations with numpy\n",
    "\n",
    "1. Create a 3x3 matrix in numpy with the following values: \n",
    "\n",
    "⎡ 1  2  3 ⎤ \\\n",
    "⎢ 4  5  6 ⎥ \\\n",
    "⎣ 7  8  9 ⎦ \n",
    "\n",
    "2.- Transpose the matrix and save it into a transpose variable \\\n",
    "3.- Add both matrix \\\n",
    "4.- Multiply both matrix\n",
    "\n"
   ]
  },
  {
   "cell_type": "code",
   "execution_count": null,
   "id": "439c836d",
   "metadata": {},
   "outputs": [],
   "source": [
    "c = np.array([1,2,3])\n",
    "c"
   ]
  },
  {
   "cell_type": "code",
   "execution_count": null,
   "id": "6d486970",
   "metadata": {},
   "outputs": [],
   "source": [
    "\n",
    "matrix = np.array([[1,2,3],[4,5,6],[7,8,9]])\n",
    "matrix\n"
   ]
  },
  {
   "cell_type": "code",
   "execution_count": null,
   "id": "61be56cf",
   "metadata": {},
   "outputs": [],
   "source": [
    "transpose = matrix.T\n",
    "transpose"
   ]
  },
  {
   "cell_type": "code",
   "execution_count": null,
   "id": "93b05e1a",
   "metadata": {},
   "outputs": [],
   "source": [
    "sum_matrix = matrix + transpose\n",
    "sum_matrix\n"
   ]
  },
  {
   "cell_type": "code",
   "execution_count": null,
   "id": "df0dc2e6",
   "metadata": {},
   "outputs": [],
   "source": [
    "product_matrix = np.dot(matrix, transpose)\n",
    "product_matrix"
   ]
  },
  {
   "cell_type": "markdown",
   "id": "0c6641d6",
   "metadata": {},
   "source": [
    "#### numpy indexing\n",
    "\n",
    "1.- Create a numpy array [10, 20, 30, 40, 50, 60] \\\n",
    "2.- print second and last index \\\n",
    "3.- print elements 1-3 \\\n",
    "4.- print all but the first 2 elements \\\n",
    "5.- reshape the array to be a 2x3 matrix "
   ]
  },
  {
   "cell_type": "code",
   "execution_count": null,
   "id": "3fcfaa53",
   "metadata": {},
   "outputs": [],
   "source": [
    "arr = np.array([10, 20, 30, 40, 50, 60])\n",
    "arr\n"
   ]
  },
  {
   "cell_type": "code",
   "execution_count": null,
   "id": "d7ccc8f9",
   "metadata": {},
   "outputs": [],
   "source": [
    "arr[1]\n"
   ]
  },
  {
   "cell_type": "code",
   "execution_count": null,
   "id": "afaa1f42",
   "metadata": {},
   "outputs": [],
   "source": [
    "arr[-1]"
   ]
  },
  {
   "cell_type": "code",
   "execution_count": null,
   "id": "23ac300e",
   "metadata": {},
   "outputs": [],
   "source": [
    "arr[1:4]"
   ]
  },
  {
   "cell_type": "code",
   "execution_count": null,
   "id": "d95f4e8c",
   "metadata": {},
   "outputs": [],
   "source": [
    "arr[2:]\n"
   ]
  },
  {
   "cell_type": "code",
   "execution_count": null,
   "id": "4c4f6abd",
   "metadata": {},
   "outputs": [],
   "source": [
    "reshaped_arr = arr.reshape((2, 3))\n",
    "reshaped_arr\n"
   ]
  },
  {
   "cell_type": "markdown",
   "id": "013209d7",
   "metadata": {},
   "source": [
    "#### Creating random arrays\n",
    "1- Create a 3x3 matrix with random numbers. \\\n",
    "2.- Create a 2x3 matrix with random integers.\n"
   ]
  },
  {
   "cell_type": "code",
   "execution_count": null,
   "id": "61f38312",
   "metadata": {},
   "outputs": [],
   "source": [
    "random_array = np.random.rand(3,3)\n",
    "random_array\n"
   ]
  },
  {
   "cell_type": "code",
   "execution_count": null,
   "id": "989760ee",
   "metadata": {},
   "outputs": [],
   "source": [
    "random_array_int = np.random.randint(0,10, size =(3,3))\n",
    "random_array_int"
   ]
  },
  {
   "cell_type": "markdown",
   "id": "44a70654",
   "metadata": {},
   "source": [
    "#### Boolean Indexing and Filtering\n",
    "1.- Generate a random dataset in a 5x5 matrixs filled with integers from 1-50. \\\n",
    "2.- Filter the values that are bigger than 25 and replace them with 0. \\\n",
    "3.- Calculate the basic statisticañ dispersion and tendency meassurements."
   ]
  },
  {
   "cell_type": "code",
   "execution_count": null,
   "id": "ab79a8ab",
   "metadata": {},
   "outputs": [],
   "source": [
    "np.random.seed(42)\n",
    "random_array = np.random.rand(3,3)\n",
    "random_array\n"
   ]
  },
  {
   "cell_type": "code",
   "execution_count": null,
   "id": "2ca92c15",
   "metadata": {},
   "outputs": [],
   "source": [
    "dataset = np.random.rand(1, 51, size=[5,5])\n",
    "dataset"
   ]
  },
  {
   "cell_type": "code",
   "execution_count": null,
   "id": "770293b9",
   "metadata": {},
   "outputs": [],
   "source": [
    "dataset[dataset > 25] = 0\n",
    "dataset"
   ]
  },
  {
   "cell_type": "code",
   "execution_count": null,
   "id": "addf820c",
   "metadata": {},
   "outputs": [],
   "source": [
    "np.mean(dataset)"
   ]
  },
  {
   "cell_type": "code",
   "execution_count": null,
   "id": "b651a0e8",
   "metadata": {},
   "outputs": [],
   "source": [
    "np.median(dataset)"
   ]
  },
  {
   "cell_type": "code",
   "execution_count": null,
   "id": "469a37e7",
   "metadata": {},
   "outputs": [],
   "source": [
    "np.std(dataset)"
   ]
  },
  {
   "cell_type": "markdown",
   "id": "7a97908f",
   "metadata": {},
   "source": [
    "#### Homework exercise numpy\n",
    "\n",
    "⎡ 2  3 ⎤ \\\n",
    "⎣ 0  1 ⎦ \n",
    "\n",
    "\n",
    "⎡ 1  2 ⎤  \n",
    "⎣ 4  0 ⎦ \n",
    "\n",
    "1. The product\n",
    "2. Product's transpose.\n",
    "3. Determinant of the product\n",
    "4. The inverse of the product."
   ]
  },
  {
   "cell_type": "code",
   "execution_count": null,
   "id": "1ab68367",
   "metadata": {},
   "outputs": [],
   "source": [
    "A = np.array([[1,3],[0,1]])\n",
    "B = np.array()"
   ]
  },
  {
   "cell_type": "code",
   "execution_count": null,
   "id": "d1448e6c",
   "metadata": {},
   "outputs": [],
   "source": [
    "C =A@B\n",
    "C"
   ]
  },
  {
   "cell_type": "code",
   "execution_count": null,
   "id": "e34d7ad3",
   "metadata": {},
   "outputs": [],
   "source": [
    "transpose = C.T\n",
    "transpose"
   ]
  },
  {
   "cell_type": "code",
   "execution_count": null,
   "id": "5479cca6",
   "metadata": {},
   "outputs": [],
   "source": [
    "determinante = np.linalg.det(C)\n",
    "determinante"
   ]
  },
  {
   "cell_type": "code",
   "execution_count": null,
   "id": "c76802f7",
   "metadata": {},
   "outputs": [],
   "source": [
    "inverse = np.linalg.inv(C)\n",
    "inverse"
   ]
  }
 ],
 "metadata": {
  "kernelspec": {
   "display_name": "Python 3",
   "language": "python",
   "name": "python3"
  },
  "language_info": {
   "codemirror_mode": {
    "name": "ipython",
    "version": 3
   },
   "file_extension": ".py",
   "mimetype": "text/x-python",
   "name": "python",
   "nbconvert_exporter": "python",
   "pygments_lexer": "ipython3",
   "version": "3.11.2"
  }
 },
 "nbformat": 4,
 "nbformat_minor": 5
}
